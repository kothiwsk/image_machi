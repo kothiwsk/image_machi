{
 "cells": [
  {
   "cell_type": "code",
   "execution_count": 16,
   "metadata": {
    "collapsed": true
   },
   "outputs": [],
   "source": [
    "from __future__ import print_function\n",
    "import numpy as np\n",
    "import pandas as pd\n",
    "import tensorflow as tf\n",
    "from six.moves import cPickle as pickle\n",
    "from six.moves import range\n",
    "from sklearn.linear_model import LogisticRegression\n",
    "import matplotlib.pyplot as plt\n",
    "import numpy as np\n",
    "import os\n",
    "import sys\n",
    "import tarfile\n",
    "from IPython.display import display, Image\n",
    "from scipy import ndimage\n",
    "from sklearn.linear_model import LogisticRegression\n",
    "from six.moves.urllib.request import urlretrieve\n",
    "from six.moves import cPickle as pickle\n"
   ]
  },
  {
   "cell_type": "code",
   "execution_count": 22,
   "metadata": {
    "collapsed": false
   },
   "outputs": [],
   "source": [
    "pickle_file = 'thumbnail_78_128_12Dec.pickle'\n",
    "\n",
    "with open(pickle_file, 'rb') as f:\n",
    "  save = pickle.load(f)\n",
    "  train_dataset=save['train_datasets'],\n",
    "  train_labels=save['train_labels'],\n",
    "  val_dataset=save['val_datasets'],\n",
    "  val_labels=save['val_labels'],\n",
    "  test_dataset=save['test_datasets'],\n",
    "  test_images=save['test_images'],\n",
    "  fish_names_train=save['fish_names_train']\n",
    "  del save  \n",
    "  f.close()\n",
    "image_size_h = 78\n",
    "image_size_w = 128\n",
    "train_dataset=train_dataset[0].reshape(train_dataset[0].shape[0],image_size_w*image_size_h)\n",
    "test_dataset=test_dataset[0].reshape(test_dataset[0].shape[0],image_size_w*image_size_h)\n",
    "val_dataset=val_dataset[0].reshape(val_dataset[0].shape[0],image_size_w*image_size_h)\n",
    "train_labels,val_labels=train_labels[0],val_labels[0]"
   ]
  },
  {
   "cell_type": "code",
   "execution_count": 13,
   "metadata": {
    "collapsed": false
   },
   "outputs": [
    {
     "data": {
      "text/plain": [
       "0.93518518518518523"
      ]
     },
     "execution_count": 13,
     "metadata": {},
     "output_type": "execute_result"
    }
   ],
   "source": [
    "# loo=cross_validation.LeaveOneOut(len(train_labels))\n",
    "regr=LogisticRegression(multi_class='multinomial',solver='lbfgs')\n",
    "regr.fit(train_dataset,train_labels)\n",
    "regr.score(val_dataset,val_labels)\n",
    "#scores=cross_validation.cross_val_score(regr,X_test,y)"
   ]
  },
  {
   "cell_type": "code",
   "execution_count": null,
   "metadata": {
    "collapsed": true
   },
   "outputs": [],
   "source": [
    "regr=LogisticRegression(penalty='l2'),performance=0.93218\n",
    "regr=LogisticRegression(penalty='l1'),performance=0.923\n",
    "regr=LogisticRegression(multi_class='multinomial',solver='sag',max_iter=1000),performance=0.9325\n",
    "regr=LogisticRegression(multi_class='multinomial',solver='lbfgs'),0.93518"
   ]
  },
  {
   "cell_type": "code",
   "execution_count": 14,
   "metadata": {
    "collapsed": false
   },
   "outputs": [
    {
     "name": "stdout",
     "output_type": "stream",
     "text": [
      "[  5.12719951e-01   3.00969367e-06   6.15501286e-09   1.48904045e-07\n",
      "   3.03718195e-03   1.01552373e-05   7.17363443e-07   4.84228829e-01]\n"
     ]
    }
   ],
   "source": [
    "prob_test=regr.predict_proba(test_dataset)\n",
    "print(prob_test[13])"
   ]
  },
  {
   "cell_type": "code",
   "execution_count": 37,
   "metadata": {
    "collapsed": false
   },
   "outputs": [],
   "source": [
    "test_images=test_images[0]"
   ]
  },
  {
   "cell_type": "code",
   "execution_count": 38,
   "metadata": {
    "collapsed": false
   },
   "outputs": [
    {
     "name": "stdout",
     "output_type": "stream",
     "text": [
      "<bound method NDFrame.head of                train\\ALB.pickle  train\\BET.pickle  train\\DOL.pickle  \\\n",
      "img_00005.jpg      1.004185e-04      1.989977e-06      2.876487e-04   \n",
      "img_00007.jpg      9.983533e-01      3.968352e-05      2.717642e-07   \n",
      "img_00009.jpg      9.908034e-01      4.289582e-03      6.277185e-07   \n",
      "img_00018.jpg      9.152208e-01      1.788028e-05      1.239015e-03   \n",
      "img_00027.jpg      8.645188e-01      3.755634e-03      6.088148e-03   \n",
      "img_00030.jpg      9.927779e-01      1.207120e-06      2.057642e-06   \n",
      "img_00040.jpg      8.972433e-01      4.959527e-02      4.898813e-04   \n",
      "img_00046.jpg      4.770445e-01      2.899737e-05      1.371685e-07   \n",
      "img_00053.jpg      9.407544e-01      1.350738e-02      1.737650e-05   \n",
      "img_00071.jpg      9.984653e-01      3.232343e-04      7.133337e-06   \n",
      "img_00075.jpg      9.994019e-01      2.908081e-06      5.365710e-07   \n",
      "img_00102.jpg      1.667816e-02      1.555900e-02      1.068454e-04   \n",
      "img_00103.jpg      8.658526e-02      2.995899e-04      1.408075e-04   \n",
      "img_00109.jpg      5.127200e-01      3.009694e-06      6.155013e-09   \n",
      "img_00119.jpg      9.321717e-04      5.654020e-03      1.691311e-07   \n",
      "img_00120.jpg      8.978226e-01      9.235282e-04      2.246996e-05   \n",
      "img_00125.jpg      9.700817e-01      9.271420e-05      2.366108e-06   \n",
      "img_00128.jpg      1.375240e-04      8.870930e-03      1.014415e-01   \n",
      "img_00129.jpg      9.848852e-02      3.215153e-01      3.665147e-03   \n",
      "img_00133.jpg      5.010407e-05      5.778879e-07      7.197263e-07   \n",
      "img_00138.jpg      8.723775e-01      7.892258e-02      2.141221e-04   \n",
      "img_00141.jpg      4.501871e-04      9.037799e-05      2.808573e-01   \n",
      "img_00152.jpg      2.361989e-02      1.197089e-04      1.553015e-03   \n",
      "img_00161.jpg      7.828882e-06      1.333867e-05      4.026686e-06   \n",
      "img_00164.jpg      4.779820e-02      3.019391e-01      1.021264e-04   \n",
      "img_00170.jpg      9.995940e-01      6.767666e-05      7.607229e-06   \n",
      "img_00171.jpg      5.825208e-03      1.659814e-03      1.958074e-04   \n",
      "img_00172.jpg      7.885215e-05      1.991516e-05      5.011694e-07   \n",
      "img_00175.jpg      7.321293e-03      8.598282e-04      1.452581e-04   \n",
      "img_00180.jpg      1.003568e-01      8.207749e-04      2.783486e-06   \n",
      "...                         ...               ...               ...   \n",
      "img_07578.jpg      3.083870e-07      3.481386e-08      5.007926e-04   \n",
      "img_07580.jpg      7.770227e-01      1.730743e-02      1.490570e-04   \n",
      "img_07583.jpg      9.992842e-03      2.222956e-01      4.148933e-06   \n",
      "img_07590.jpg      1.296214e-01      8.521114e-01      6.586017e-03   \n",
      "img_07594.jpg      6.652577e-01      9.621687e-03      5.540912e-05   \n",
      "img_07616.jpg      7.994544e-01      1.387343e-01      1.703942e-03   \n",
      "img_07621.jpg      9.901751e-01      7.503911e-05      4.423481e-05   \n",
      "img_07623.jpg      9.940899e-01      1.601635e-05      4.041437e-05   \n",
      "img_07628.jpg      2.257755e-04      2.243940e-03      2.761074e-05   \n",
      "img_07659.jpg      1.262665e-02      3.673977e-02      3.985457e-06   \n",
      "img_07663.jpg      9.543372e-02      8.276252e-01      2.276503e-05   \n",
      "img_07678.jpg      2.592961e-01      1.847469e-02      3.442747e-04   \n",
      "img_07689.jpg      9.927652e-01      4.027320e-04      5.768108e-05   \n",
      "img_07700.jpg      3.656175e-02      1.444259e-04      1.499961e-01   \n",
      "img_07717.jpg      9.978664e-01      4.722517e-04      1.221660e-07   \n",
      "img_07746.jpg      2.647711e-01      1.896367e-02      1.202408e-02   \n",
      "img_07757.jpg      2.703042e-01      9.318158e-03      1.848589e-03   \n",
      "img_07792.jpg      8.659871e-01      5.024364e-04      5.908344e-04   \n",
      "img_07799.jpg      9.823414e-01      5.296326e-03      1.154558e-04   \n",
      "img_07818.jpg      9.898505e-01      1.485703e-07      3.110358e-04   \n",
      "img_07833.jpg      9.952922e-01      9.998413e-05      2.389924e-04   \n",
      "img_07859.jpg      1.442271e-03      1.478876e-01      1.173864e-07   \n",
      "img_07872.jpg      1.732405e-01      2.544885e-03      1.429868e-03   \n",
      "img_07893.jpg      5.274858e-01      2.070352e-02      1.312446e-03   \n",
      "img_07895.jpg      9.994828e-01      1.978688e-05      3.957517e-06   \n",
      "img_07905.jpg      8.880598e-01      1.340333e-03      5.750835e-03   \n",
      "img_07906.jpg      3.004642e-01      2.122630e-03      1.280033e-01   \n",
      "img_07908.jpg      9.443725e-01      6.476949e-03      1.863355e-05   \n",
      "img_07910.jpg      9.987265e-01      2.049688e-05      4.431661e-07   \n",
      "img_07921.jpg      2.619031e-01      3.757282e-01      3.945718e-03   \n",
      "\n",
      "               train\\LAG.pickle  train\\NoF.pickle  train\\OTHER.pickle  \\\n",
      "img_00005.jpg      2.323513e-08      9.993965e-01        2.132119e-04   \n",
      "img_00007.jpg      8.436421e-04      8.991930e-05        1.595852e-05   \n",
      "img_00009.jpg      1.581649e-05      8.226775e-05        3.111493e-03   \n",
      "img_00018.jpg      6.626336e-02      1.986355e-04        1.546004e-02   \n",
      "img_00027.jpg      2.116160e-03      5.063027e-03        6.564896e-02   \n",
      "img_00030.jpg      2.914600e-05      6.388776e-03        5.799352e-06   \n",
      "img_00040.jpg      2.719483e-04      2.168419e-04        4.859989e-03   \n",
      "img_00046.jpg      1.296918e-04      5.211252e-01        2.245416e-05   \n",
      "img_00053.jpg      3.667461e-03      4.119654e-03        3.338702e-02   \n",
      "img_00071.jpg      8.336888e-06      3.756334e-07        1.307129e-05   \n",
      "img_00075.jpg      1.940694e-05      2.812583e-05        6.563722e-05   \n",
      "img_00102.jpg      1.016240e-06      4.462607e-03        1.168472e-03   \n",
      "img_00103.jpg      2.793883e-07      1.632344e-02        8.966478e-01   \n",
      "img_00109.jpg      1.489040e-07      3.037182e-03        1.015524e-05   \n",
      "img_00119.jpg      9.455258e-07      9.538467e-01        6.907266e-06   \n",
      "img_00120.jpg      3.208638e-04      1.582898e-05        5.676508e-03   \n",
      "img_00125.jpg      2.180846e-02      2.230446e-04        5.409149e-05   \n",
      "img_00128.jpg      1.017754e-08      9.283468e-03        3.464076e-05   \n",
      "img_00129.jpg      5.025474e-03      1.448648e-03        2.233332e-03   \n",
      "img_00133.jpg      7.113869e-07      9.861603e-01        1.374089e-02   \n",
      "img_00138.jpg      9.417909e-05      2.348724e-03        1.047086e-03   \n",
      "img_00141.jpg      2.587819e-07      3.352867e-05        9.350855e-05   \n",
      "img_00152.jpg      8.276392e-05      1.566575e-03        2.482010e-04   \n",
      "img_00161.jpg      1.080272e-08      2.250808e-04        1.180466e-06   \n",
      "img_00164.jpg      1.560159e-05      4.367614e-01        2.022885e-01   \n",
      "img_00170.jpg      7.038166e-05      1.828005e-05        1.815625e-04   \n",
      "img_00171.jpg      4.781119e-03      4.873548e-04        9.869880e-01   \n",
      "img_00172.jpg      3.867310e-08      9.998701e-01        3.058224e-05   \n",
      "img_00175.jpg      2.755230e-03      1.017981e-04        9.887843e-01   \n",
      "img_00180.jpg      2.083477e-06      5.203259e-05        5.665836e-07   \n",
      "...                         ...               ...                 ...   \n",
      "img_07578.jpg      1.578660e-08      5.983724e-09        6.306209e-06   \n",
      "img_07580.jpg      3.063717e-03      2.092828e-02        2.800729e-02   \n",
      "img_07583.jpg      1.575161e-07      5.920508e-05        9.706205e-08   \n",
      "img_07590.jpg      3.001760e-05      6.062435e-04        1.018223e-02   \n",
      "img_07594.jpg      1.946357e-03      1.629060e-03        8.252691e-03   \n",
      "img_07616.jpg      1.293806e-03      2.415772e-02        1.554660e-03   \n",
      "img_07621.jpg      3.225115e-06      3.220928e-03        6.908914e-04   \n",
      "img_07623.jpg      3.199059e-10      5.844513e-03        3.100972e-06   \n",
      "img_07628.jpg      1.548930e-06      9.913681e-01        6.540223e-05   \n",
      "img_07659.jpg      8.159891e-04      4.906853e-04        2.445841e-04   \n",
      "img_07663.jpg      6.785199e-08      1.531144e-02        5.678058e-02   \n",
      "img_07678.jpg      5.556956e-01      7.127991e-04        1.647013e-01   \n",
      "img_07689.jpg      5.230020e-04      3.541366e-07        6.120420e-03   \n",
      "img_07700.jpg      7.770295e-04      8.045263e-01        3.707828e-03   \n",
      "img_07717.jpg      4.139126e-05      1.229190e-04        9.453644e-06   \n",
      "img_07746.jpg      2.590639e-03      1.429509e-01        1.268458e-01   \n",
      "img_07757.jpg      3.775360e-04      7.125929e-01        2.139914e-03   \n",
      "img_07792.jpg      4.332354e-04      1.069262e-03        1.020687e-01   \n",
      "img_07799.jpg      7.809334e-05      6.436362e-05        4.457062e-04   \n",
      "img_07818.jpg      1.164834e-07      7.091794e-03        4.399783e-05   \n",
      "img_07833.jpg      8.806211e-04      1.332617e-03        1.928514e-03   \n",
      "img_07859.jpg      1.629197e-06      8.309627e-01        1.031904e-05   \n",
      "img_07872.jpg      4.921671e-04      8.101367e-01        1.590014e-03   \n",
      "img_07893.jpg      2.679830e-03      1.819022e-03        1.276721e-01   \n",
      "img_07895.jpg      4.196763e-09      4.536881e-04        1.408593e-05   \n",
      "img_07905.jpg      1.023020e-03      1.433564e-02        6.198724e-02   \n",
      "img_07906.jpg      6.548159e-07      1.908663e-03        4.148216e-04   \n",
      "img_07908.jpg      2.926598e-04      3.159490e-04        3.291380e-03   \n",
      "img_07910.jpg      2.036363e-08      1.089017e-03        2.673290e-06   \n",
      "img_07921.jpg      2.349749e-02      5.020671e-02        2.748195e-01   \n",
      "\n",
      "               train\\SHARK.pickle  train\\YFT.pickle  \n",
      "img_00005.jpg        2.799596e-08      1.438849e-07  \n",
      "img_00007.jpg        6.153446e-08      6.571958e-04  \n",
      "img_00009.jpg        1.000713e-05      1.686810e-03  \n",
      "img_00018.jpg        5.916309e-06      1.594391e-03  \n",
      "img_00027.jpg        3.772717e-02      1.508210e-02  \n",
      "img_00030.jpg        4.763036e-04      3.187735e-04  \n",
      "img_00040.jpg        2.751811e-02      1.980463e-02  \n",
      "img_00046.jpg        1.744885e-06      1.647252e-03  \n",
      "img_00053.jpg        2.337830e-07      4.546516e-03  \n",
      "img_00071.jpg        4.390733e-10      1.182568e-03  \n",
      "img_00075.jpg        2.301935e-06      4.792192e-04  \n",
      "img_00102.jpg        1.199994e-04      9.619039e-01  \n",
      "img_00103.jpg        4.871362e-08      2.791176e-06  \n",
      "img_00109.jpg        7.173634e-07      4.842288e-01  \n",
      "img_00119.jpg        3.527754e-07      3.955878e-02  \n",
      "img_00120.jpg        7.638639e-03      8.757959e-02  \n",
      "img_00125.jpg        1.078332e-05      7.726870e-03  \n",
      "img_00128.jpg        1.694055e-07      8.802317e-01  \n",
      "img_00129.jpg        5.181536e-02      5.158082e-01  \n",
      "img_00133.jpg        4.198407e-06      4.252582e-05  \n",
      "img_00138.jpg        1.890029e-07      4.499563e-02  \n",
      "img_00141.jpg        2.151965e-07      7.184746e-01  \n",
      "img_00152.jpg        5.077598e-04      9.723021e-01  \n",
      "img_00161.jpg        2.038742e-12      9.997485e-01  \n",
      "img_00164.jpg        2.964171e-09      1.109512e-02  \n",
      "img_00170.jpg        7.039127e-10      6.046735e-05  \n",
      "img_00171.jpg        9.533114e-10      6.271262e-05  \n",
      "img_00172.jpg        3.821140e-08      5.893588e-09  \n",
      "img_00175.jpg        5.949438e-10      3.232200e-05  \n",
      "img_00180.jpg        1.611887e-05      8.987489e-01  \n",
      "...                           ...               ...  \n",
      "img_07578.jpg        2.763014e-08      9.994925e-01  \n",
      "img_07580.jpg        1.131807e-01      4.034079e-02  \n",
      "img_07583.jpg        7.674916e-01      1.563811e-04  \n",
      "img_07590.jpg        2.469805e-08      8.626217e-04  \n",
      "img_07594.jpg        3.337899e-04      3.129033e-01  \n",
      "img_07616.jpg        7.352081e-07      3.310045e-02  \n",
      "img_07621.jpg        2.288019e-05      5.767707e-03  \n",
      "img_07623.jpg        1.162203e-06      4.937514e-06  \n",
      "img_07628.jpg        6.160634e-08      6.067536e-03  \n",
      "img_07659.jpg        9.451704e-01      3.907981e-03  \n",
      "img_07663.jpg        5.412745e-05      4.772081e-03  \n",
      "img_07678.jpg        1.714227e-08      7.752679e-04  \n",
      "img_07689.jpg        1.173090e-09      1.306520e-04  \n",
      "img_07700.jpg        1.568820e-04      4.129694e-03  \n",
      "img_07717.jpg        1.906673e-06      1.485597e-03  \n",
      "img_07746.jpg        4.443759e-04      4.314095e-01  \n",
      "img_07757.jpg        1.399441e-03      2.019256e-03  \n",
      "img_07792.jpg        8.781972e-03      2.056646e-02  \n",
      "img_07799.jpg        3.388332e-08      1.165865e-02  \n",
      "img_07818.jpg        1.021622e-10      2.702438e-03  \n",
      "img_07833.jpg        1.220728e-06      2.258538e-04  \n",
      "img_07859.jpg        4.614476e-07      1.969490e-02  \n",
      "img_07872.jpg        5.985208e-03      4.580666e-03  \n",
      "img_07893.jpg        2.536152e-01      6.471209e-02  \n",
      "img_07895.jpg        4.406889e-09      2.562620e-05  \n",
      "img_07905.jpg        7.866298e-04      2.671654e-02  \n",
      "img_07906.jpg        4.767808e-04      5.666090e-01  \n",
      "img_07908.jpg        1.377555e-05      4.521814e-02  \n",
      "img_07910.jpg        8.121598e-10      1.608435e-04  \n",
      "img_07921.jpg        1.531109e-04      9.746164e-03  \n",
      "\n",
      "[1000 rows x 8 columns]>\n"
     ]
    }
   ],
   "source": [
    "df=pd.DataFrame(prob_test,columns=fish_names_train,index=test_images)\n",
    "print(df.head)\n"
   ]
  },
  {
   "cell_type": "code",
   "execution_count": 39,
   "metadata": {
    "collapsed": false
   },
   "outputs": [],
   "source": [
    "df.to_csv('submisstion_12Dec_lbfgs.csv')"
   ]
  },
  {
   "cell_type": "code",
   "execution_count": 40,
   "metadata": {
    "collapsed": false
   },
   "outputs": [],
   "source": [
    "pickle_file = 'submisstion_12Dec_model_fbgs.pickle'\n",
    "\n",
    "try:\n",
    "  f = open(pickle_file, 'wb')\n",
    "  pickle.dump(regr, f, pickle.HIGHEST_PROTOCOL)\n",
    "  f.close()\n",
    "except Exception as e:\n",
    "  print('Unable to save data to', pickle_file, ':', e)\n",
    "  raise\n",
    "  "
   ]
  }
 ],
 "metadata": {
  "anaconda-cloud": {},
  "colab": {
   "default_view": {},
   "name": "1_notmnist.ipynb",
   "provenance": [],
   "version": "0.3.2",
   "views": {}
  },
  "kernelspec": {
   "display_name": "Python [default]",
   "language": "python",
   "name": "python3"
  },
  "language_info": {
   "codemirror_mode": {
    "name": "ipython",
    "version": 3
   },
   "file_extension": ".py",
   "mimetype": "text/x-python",
   "name": "python",
   "nbconvert_exporter": "python",
   "pygments_lexer": "ipython3",
   "version": "3.5.2"
  }
 },
 "nbformat": 4,
 "nbformat_minor": 0
}
